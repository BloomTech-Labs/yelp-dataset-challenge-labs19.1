{
 "cells": [
  {
   "cell_type": "code",
   "execution_count": 1,
   "metadata": {},
   "outputs": [],
   "source": [
    "import sqlite3\n",
    "import pandas as pd\n",
    "import matplotlib.pyplot as plt\n",
    "import numpy as np\n",
    "import sklearn"
   ]
  },
  {
   "cell_type": "code",
   "execution_count": 2,
   "metadata": {},
   "outputs": [],
   "source": [
    "yelpconn = sqlite3.connect('C:/Users/navo1/Desktop/Yelp Labs/yelpData.sqlite3')"
   ]
  },
  {
   "cell_type": "markdown",
   "metadata": {},
   "source": [
    "### Create Dataframes for both the Sentiment and Word Count and merge\n"
   ]
  },
  {
   "cell_type": "code",
   "execution_count": 3,
   "metadata": {},
   "outputs": [],
   "source": [
    "sentimentdf = pd.read_sql_query(\"SELECT * FROM sentiment_textblob\", yelpconn)"
   ]
  },
  {
   "cell_type": "code",
   "execution_count": 19,
   "metadata": {},
   "outputs": [],
   "source": [
    "wcdf = pd.read_sql_query(\"SELECT review_id, WC, stars FROM review\", yelpconn)"
   ]
  },
  {
   "cell_type": "code",
   "execution_count": 20,
   "metadata": {},
   "outputs": [],
   "source": [
    "mergedf = sentimentdf.merge(wcdf, on=\"review_id\")"
   ]
  },
  {
   "cell_type": "markdown",
   "metadata": {},
   "source": [
    "### Look at Statistics"
   ]
  },
  {
   "cell_type": "code",
   "execution_count": 21,
   "metadata": {},
   "outputs": [
    {
     "data": {
      "text/html": [
       "<div>\n",
       "<style scoped>\n",
       "    .dataframe tbody tr th:only-of-type {\n",
       "        vertical-align: middle;\n",
       "    }\n",
       "\n",
       "    .dataframe tbody tr th {\n",
       "        vertical-align: top;\n",
       "    }\n",
       "\n",
       "    .dataframe thead th {\n",
       "        text-align: right;\n",
       "    }\n",
       "</style>\n",
       "<table border=\"1\" class=\"dataframe\">\n",
       "  <thead>\n",
       "    <tr style=\"text-align: right;\">\n",
       "      <th></th>\n",
       "      <th>review_id</th>\n",
       "      <th>polarity</th>\n",
       "      <th>subjectivity</th>\n",
       "      <th>WC</th>\n",
       "      <th>stars</th>\n",
       "    </tr>\n",
       "  </thead>\n",
       "  <tbody>\n",
       "    <tr>\n",
       "      <th>0</th>\n",
       "      <td>Q1sbwvVQXV2734tPgoKj4Q</td>\n",
       "      <td>-0.333333</td>\n",
       "      <td>0.616667</td>\n",
       "      <td>39</td>\n",
       "      <td>1</td>\n",
       "    </tr>\n",
       "    <tr>\n",
       "      <th>1</th>\n",
       "      <td>GJXCdrto3ASJOqKeVWPi6Q</td>\n",
       "      <td>0.315810</td>\n",
       "      <td>0.536668</td>\n",
       "      <td>288</td>\n",
       "      <td>5</td>\n",
       "    </tr>\n",
       "    <tr>\n",
       "      <th>2</th>\n",
       "      <td>2TzJjDVDEuAW6MR5Vuc1ug</td>\n",
       "      <td>0.429125</td>\n",
       "      <td>0.584000</td>\n",
       "      <td>113</td>\n",
       "      <td>5</td>\n",
       "    </tr>\n",
       "    <tr>\n",
       "      <th>3</th>\n",
       "      <td>yi0R0Ugj_xUx_Nek0-_Qig</td>\n",
       "      <td>0.832500</td>\n",
       "      <td>0.885000</td>\n",
       "      <td>65</td>\n",
       "      <td>5</td>\n",
       "    </tr>\n",
       "    <tr>\n",
       "      <th>4</th>\n",
       "      <td>11a8sVPMUFtaC7_ABRkmtw</td>\n",
       "      <td>0.049277</td>\n",
       "      <td>0.432407</td>\n",
       "      <td>673</td>\n",
       "      <td>1</td>\n",
       "    </tr>\n",
       "  </tbody>\n",
       "</table>\n",
       "</div>"
      ],
      "text/plain": [
       "                review_id  polarity  subjectivity   WC  stars\n",
       "0  Q1sbwvVQXV2734tPgoKj4Q -0.333333      0.616667   39      1\n",
       "1  GJXCdrto3ASJOqKeVWPi6Q  0.315810      0.536668  288      5\n",
       "2  2TzJjDVDEuAW6MR5Vuc1ug  0.429125      0.584000  113      5\n",
       "3  yi0R0Ugj_xUx_Nek0-_Qig  0.832500      0.885000   65      5\n",
       "4  11a8sVPMUFtaC7_ABRkmtw  0.049277      0.432407  673      1"
      ]
     },
     "execution_count": 21,
     "metadata": {},
     "output_type": "execute_result"
    }
   ],
   "source": [
    "mergedf.head()"
   ]
  },
  {
   "cell_type": "code",
   "execution_count": 8,
   "metadata": {},
   "outputs": [
    {
     "data": {
      "text/plain": [
       "1"
      ]
     },
     "execution_count": 8,
     "metadata": {},
     "output_type": "execute_result"
    }
   ],
   "source": [
    "mergedf['WC'].min()"
   ]
  },
  {
   "cell_type": "code",
   "execution_count": 9,
   "metadata": {},
   "outputs": [
    {
     "data": {
      "text/plain": [
       "4329"
      ]
     },
     "execution_count": 9,
     "metadata": {},
     "output_type": "execute_result"
    }
   ],
   "source": [
    "mergedf['WC'].max() 'There is a character limit of 5000'"
   ]
  },
  {
   "cell_type": "code",
   "execution_count": 13,
   "metadata": {},
   "outputs": [
    {
     "data": {
      "text/plain": [
       "count    6.685900e+06\n",
       "mean     1.125804e+02\n",
       "std      1.065829e+02\n",
       "min      1.000000e+00\n",
       "25%      4.400000e+01\n",
       "50%      8.000000e+01\n",
       "75%      1.430000e+02\n",
       "max      4.329000e+03\n",
       "Name: WC, dtype: float64"
      ]
     },
     "execution_count": 13,
     "metadata": {},
     "output_type": "execute_result"
    }
   ],
   "source": [
    "mergedf['WC'].describe() "
   ]
  },
  {
   "cell_type": "markdown",
   "metadata": {},
   "source": [
    "##### What constitutues as enough words?\n"
   ]
  },
  {
   "cell_type": "markdown",
   "metadata": {},
   "source": [
    "#### Looks like average word count for a review is 112. So lets look at reviews above 112"
   ]
  },
  {
   "cell_type": "code",
   "execution_count": 14,
   "metadata": {
    "scrolled": false
   },
   "outputs": [
    {
     "data": {
      "text/html": [
       "<div>\n",
       "<style scoped>\n",
       "    .dataframe tbody tr th:only-of-type {\n",
       "        vertical-align: middle;\n",
       "    }\n",
       "\n",
       "    .dataframe tbody tr th {\n",
       "        vertical-align: top;\n",
       "    }\n",
       "\n",
       "    .dataframe thead th {\n",
       "        text-align: right;\n",
       "    }\n",
       "</style>\n",
       "<table border=\"1\" class=\"dataframe\">\n",
       "  <thead>\n",
       "    <tr style=\"text-align: right;\">\n",
       "      <th></th>\n",
       "      <th>review_id</th>\n",
       "      <th>polarity</th>\n",
       "      <th>subjectivity</th>\n",
       "      <th>WC</th>\n",
       "    </tr>\n",
       "  </thead>\n",
       "  <tbody>\n",
       "    <tr>\n",
       "      <th>1</th>\n",
       "      <td>GJXCdrto3ASJOqKeVWPi6Q</td>\n",
       "      <td>0.315810</td>\n",
       "      <td>0.536668</td>\n",
       "      <td>288</td>\n",
       "    </tr>\n",
       "    <tr>\n",
       "      <th>2</th>\n",
       "      <td>2TzJjDVDEuAW6MR5Vuc1ug</td>\n",
       "      <td>0.429125</td>\n",
       "      <td>0.584000</td>\n",
       "      <td>113</td>\n",
       "    </tr>\n",
       "    <tr>\n",
       "      <th>4</th>\n",
       "      <td>11a8sVPMUFtaC7_ABRkmtw</td>\n",
       "      <td>0.049277</td>\n",
       "      <td>0.432407</td>\n",
       "      <td>673</td>\n",
       "    </tr>\n",
       "    <tr>\n",
       "      <th>5</th>\n",
       "      <td>fdiNeiN_hoCxCMy2wTRW9g</td>\n",
       "      <td>0.238157</td>\n",
       "      <td>0.619437</td>\n",
       "      <td>295</td>\n",
       "    </tr>\n",
       "    <tr>\n",
       "      <th>6</th>\n",
       "      <td>G7XHMxG0bx9oBJNECG4IFg</td>\n",
       "      <td>0.148851</td>\n",
       "      <td>0.545361</td>\n",
       "      <td>243</td>\n",
       "    </tr>\n",
       "    <tr>\n",
       "      <th>8</th>\n",
       "      <td>qrffudO73zsslZbe8B9D3Q</td>\n",
       "      <td>0.227130</td>\n",
       "      <td>0.568201</td>\n",
       "      <td>264</td>\n",
       "    </tr>\n",
       "    <tr>\n",
       "      <th>10</th>\n",
       "      <td>kbtscdyz6lvrtGjD1quQTg</td>\n",
       "      <td>0.061458</td>\n",
       "      <td>0.325347</td>\n",
       "      <td>130</td>\n",
       "    </tr>\n",
       "    <tr>\n",
       "      <th>12</th>\n",
       "      <td>Z7wgXp98wYB57QdRY3HQ3w</td>\n",
       "      <td>0.602879</td>\n",
       "      <td>0.806548</td>\n",
       "      <td>212</td>\n",
       "    </tr>\n",
       "    <tr>\n",
       "      <th>14</th>\n",
       "      <td>JVcjMhlavKKn3UIt9p9OXA</td>\n",
       "      <td>-0.378929</td>\n",
       "      <td>0.646548</td>\n",
       "      <td>190</td>\n",
       "    </tr>\n",
       "    <tr>\n",
       "      <th>17</th>\n",
       "      <td>6BnQwlxRn7ZuWdzninM9sQ</td>\n",
       "      <td>-0.038269</td>\n",
       "      <td>0.588608</td>\n",
       "      <td>373</td>\n",
       "    </tr>\n",
       "    <tr>\n",
       "      <th>19</th>\n",
       "      <td>4bUyL7lzoWzDZaJETAKREg</td>\n",
       "      <td>0.074510</td>\n",
       "      <td>0.607843</td>\n",
       "      <td>147</td>\n",
       "    </tr>\n",
       "    <tr>\n",
       "      <th>21</th>\n",
       "      <td>IPw8yWiyqnfBzzWmypUHgg</td>\n",
       "      <td>0.353509</td>\n",
       "      <td>0.388596</td>\n",
       "      <td>139</td>\n",
       "    </tr>\n",
       "    <tr>\n",
       "      <th>26</th>\n",
       "      <td>W1wbNaUnbMy4b9QqY3_SAg</td>\n",
       "      <td>-0.192340</td>\n",
       "      <td>0.599948</td>\n",
       "      <td>255</td>\n",
       "    </tr>\n",
       "    <tr>\n",
       "      <th>28</th>\n",
       "      <td>1daGBpea0sleayFeeXuoYw</td>\n",
       "      <td>-0.016005</td>\n",
       "      <td>0.662566</td>\n",
       "      <td>123</td>\n",
       "    </tr>\n",
       "    <tr>\n",
       "      <th>29</th>\n",
       "      <td>DAC4zWY2ZMa1vxpN9RrDvA</td>\n",
       "      <td>0.039881</td>\n",
       "      <td>0.459094</td>\n",
       "      <td>433</td>\n",
       "    </tr>\n",
       "    <tr>\n",
       "      <th>31</th>\n",
       "      <td>bjD0Dqn3k-fi00BXatrytg</td>\n",
       "      <td>-0.040185</td>\n",
       "      <td>0.392747</td>\n",
       "      <td>334</td>\n",
       "    </tr>\n",
       "    <tr>\n",
       "      <th>34</th>\n",
       "      <td>E6B-2U2sGG3xgmnNWZAEew</td>\n",
       "      <td>0.148413</td>\n",
       "      <td>0.496825</td>\n",
       "      <td>195</td>\n",
       "    </tr>\n",
       "    <tr>\n",
       "      <th>35</th>\n",
       "      <td>wOv7JiO0EGcJ61P2JcDS1g</td>\n",
       "      <td>0.136710</td>\n",
       "      <td>0.610584</td>\n",
       "      <td>150</td>\n",
       "    </tr>\n",
       "    <tr>\n",
       "      <th>38</th>\n",
       "      <td>vBRxlgkpDTXjWiYBp1V6GA</td>\n",
       "      <td>0.130303</td>\n",
       "      <td>0.456566</td>\n",
       "      <td>193</td>\n",
       "    </tr>\n",
       "    <tr>\n",
       "      <th>39</th>\n",
       "      <td>eed44nI0eZ4BGKtKXsRJhQ</td>\n",
       "      <td>0.096970</td>\n",
       "      <td>0.490152</td>\n",
       "      <td>142</td>\n",
       "    </tr>\n",
       "    <tr>\n",
       "      <th>40</th>\n",
       "      <td>UoFxqWXBluvS4Q32spb8Lg</td>\n",
       "      <td>0.305802</td>\n",
       "      <td>0.678028</td>\n",
       "      <td>383</td>\n",
       "    </tr>\n",
       "    <tr>\n",
       "      <th>41</th>\n",
       "      <td>8swMTt9IXycp15r3WlCEmg</td>\n",
       "      <td>0.299561</td>\n",
       "      <td>0.560526</td>\n",
       "      <td>162</td>\n",
       "    </tr>\n",
       "    <tr>\n",
       "      <th>44</th>\n",
       "      <td>f0B9-r14-bLudyu5S7aLhw</td>\n",
       "      <td>0.024818</td>\n",
       "      <td>0.584566</td>\n",
       "      <td>158</td>\n",
       "    </tr>\n",
       "    <tr>\n",
       "      <th>48</th>\n",
       "      <td>u1jQX0KfnG3AHty4ifEpFA</td>\n",
       "      <td>0.170879</td>\n",
       "      <td>0.581341</td>\n",
       "      <td>153</td>\n",
       "    </tr>\n",
       "    <tr>\n",
       "      <th>52</th>\n",
       "      <td>Saae_VVf_v0fyNmB6Dc4kw</td>\n",
       "      <td>0.025546</td>\n",
       "      <td>0.430903</td>\n",
       "      <td>317</td>\n",
       "    </tr>\n",
       "    <tr>\n",
       "      <th>55</th>\n",
       "      <td>vAckaF8n0KKJeqHOnb1ayw</td>\n",
       "      <td>0.186174</td>\n",
       "      <td>0.557576</td>\n",
       "      <td>174</td>\n",
       "    </tr>\n",
       "    <tr>\n",
       "      <th>56</th>\n",
       "      <td>VqZMgUf4wQMTeCWg2M_e8Q</td>\n",
       "      <td>0.231638</td>\n",
       "      <td>0.426912</td>\n",
       "      <td>146</td>\n",
       "    </tr>\n",
       "    <tr>\n",
       "      <th>57</th>\n",
       "      <td>UIvFkXLBxWxM6aekvaCp8Q</td>\n",
       "      <td>-0.026436</td>\n",
       "      <td>0.627039</td>\n",
       "      <td>390</td>\n",
       "    </tr>\n",
       "    <tr>\n",
       "      <th>58</th>\n",
       "      <td>4pfD5yB-S2PduTInghEcNg</td>\n",
       "      <td>0.129167</td>\n",
       "      <td>0.417361</td>\n",
       "      <td>138</td>\n",
       "    </tr>\n",
       "    <tr>\n",
       "      <th>59</th>\n",
       "      <td>IRwIFWgjJiMSBBucewhHDg</td>\n",
       "      <td>0.155083</td>\n",
       "      <td>0.475194</td>\n",
       "      <td>223</td>\n",
       "    </tr>\n",
       "    <tr>\n",
       "      <th>...</th>\n",
       "      <td>...</td>\n",
       "      <td>...</td>\n",
       "      <td>...</td>\n",
       "      <td>...</td>\n",
       "    </tr>\n",
       "    <tr>\n",
       "      <th>6685798</th>\n",
       "      <td>ghYZM7lqzjej05I_T3vYyA</td>\n",
       "      <td>0.253119</td>\n",
       "      <td>0.578605</td>\n",
       "      <td>485</td>\n",
       "    </tr>\n",
       "    <tr>\n",
       "      <th>6685800</th>\n",
       "      <td>Yb9IY8GrWpHQ4UfS6oRm0Q</td>\n",
       "      <td>0.226500</td>\n",
       "      <td>0.462111</td>\n",
       "      <td>166</td>\n",
       "    </tr>\n",
       "    <tr>\n",
       "      <th>6685801</th>\n",
       "      <td>VJgt91qmTdzlwrpIE7Zujg</td>\n",
       "      <td>-0.606771</td>\n",
       "      <td>0.558333</td>\n",
       "      <td>118</td>\n",
       "    </tr>\n",
       "    <tr>\n",
       "      <th>6685802</th>\n",
       "      <td>BBjdCIibtHorWefcKOmelQ</td>\n",
       "      <td>0.314498</td>\n",
       "      <td>0.567177</td>\n",
       "      <td>199</td>\n",
       "    </tr>\n",
       "    <tr>\n",
       "      <th>6685805</th>\n",
       "      <td>lJtGRz93kOfTjV6blKmpxg</td>\n",
       "      <td>-0.024524</td>\n",
       "      <td>0.546825</td>\n",
       "      <td>163</td>\n",
       "    </tr>\n",
       "    <tr>\n",
       "      <th>6685818</th>\n",
       "      <td>Re8a_eIiFLha42pl_O-r0A</td>\n",
       "      <td>-0.046167</td>\n",
       "      <td>0.550000</td>\n",
       "      <td>174</td>\n",
       "    </tr>\n",
       "    <tr>\n",
       "      <th>6685822</th>\n",
       "      <td>xx75LJdt97n5ztKm8-AKfQ</td>\n",
       "      <td>0.236275</td>\n",
       "      <td>0.544118</td>\n",
       "      <td>137</td>\n",
       "    </tr>\n",
       "    <tr>\n",
       "      <th>6685824</th>\n",
       "      <td>UG4aLPKajJJ6gMXYPXKoPA</td>\n",
       "      <td>0.289476</td>\n",
       "      <td>0.513275</td>\n",
       "      <td>125</td>\n",
       "    </tr>\n",
       "    <tr>\n",
       "      <th>6685830</th>\n",
       "      <td>EpudfsD8GO81GlcXP6JXPg</td>\n",
       "      <td>0.304802</td>\n",
       "      <td>0.683225</td>\n",
       "      <td>192</td>\n",
       "    </tr>\n",
       "    <tr>\n",
       "      <th>6685831</th>\n",
       "      <td>yllqhlHLN2G9yXbhLzxRpw</td>\n",
       "      <td>-0.193651</td>\n",
       "      <td>0.574603</td>\n",
       "      <td>184</td>\n",
       "    </tr>\n",
       "    <tr>\n",
       "      <th>6685835</th>\n",
       "      <td>tgBWDGErLOkNzIeQXPDEJA</td>\n",
       "      <td>0.315873</td>\n",
       "      <td>0.405159</td>\n",
       "      <td>113</td>\n",
       "    </tr>\n",
       "    <tr>\n",
       "      <th>6685836</th>\n",
       "      <td>A6VBr7M8TD9GTvzShmgaHg</td>\n",
       "      <td>-0.182812</td>\n",
       "      <td>0.608333</td>\n",
       "      <td>235</td>\n",
       "    </tr>\n",
       "    <tr>\n",
       "      <th>6685837</th>\n",
       "      <td>RtW8zYj9q0wyZjlg9BbZ8A</td>\n",
       "      <td>0.126894</td>\n",
       "      <td>0.455519</td>\n",
       "      <td>123</td>\n",
       "    </tr>\n",
       "    <tr>\n",
       "      <th>6685838</th>\n",
       "      <td>EX_BRISmxWvzgLSkeQCN0A</td>\n",
       "      <td>0.313492</td>\n",
       "      <td>0.486508</td>\n",
       "      <td>162</td>\n",
       "    </tr>\n",
       "    <tr>\n",
       "      <th>6685841</th>\n",
       "      <td>_7taDBtB4SESrUrgLAACWw</td>\n",
       "      <td>0.220000</td>\n",
       "      <td>0.466250</td>\n",
       "      <td>266</td>\n",
       "    </tr>\n",
       "    <tr>\n",
       "      <th>6685842</th>\n",
       "      <td>V3eXEfo--DPg0fDqRH5bGg</td>\n",
       "      <td>0.412952</td>\n",
       "      <td>0.638295</td>\n",
       "      <td>155</td>\n",
       "    </tr>\n",
       "    <tr>\n",
       "      <th>6685848</th>\n",
       "      <td>3-lHpM9sdw2CNCwMezvCIA</td>\n",
       "      <td>0.311012</td>\n",
       "      <td>0.492586</td>\n",
       "      <td>136</td>\n",
       "    </tr>\n",
       "    <tr>\n",
       "      <th>6685853</th>\n",
       "      <td>JUzyYFcrCnaw-3dkWifnFw</td>\n",
       "      <td>0.240741</td>\n",
       "      <td>0.647222</td>\n",
       "      <td>116</td>\n",
       "    </tr>\n",
       "    <tr>\n",
       "      <th>6685856</th>\n",
       "      <td>30vnT1Vu2vOP-jhtLNATng</td>\n",
       "      <td>0.024967</td>\n",
       "      <td>0.574956</td>\n",
       "      <td>154</td>\n",
       "    </tr>\n",
       "    <tr>\n",
       "      <th>6685861</th>\n",
       "      <td>xmLBMfvrVyeW2nhHdRRwCA</td>\n",
       "      <td>-0.140354</td>\n",
       "      <td>0.490556</td>\n",
       "      <td>233</td>\n",
       "    </tr>\n",
       "    <tr>\n",
       "      <th>6685867</th>\n",
       "      <td>Io0vyvmbFh3H0lpa7Es54A</td>\n",
       "      <td>0.042000</td>\n",
       "      <td>0.605597</td>\n",
       "      <td>465</td>\n",
       "    </tr>\n",
       "    <tr>\n",
       "      <th>6685873</th>\n",
       "      <td>vNUUOTSJh4R3dhDMrP-ASA</td>\n",
       "      <td>0.298167</td>\n",
       "      <td>0.556015</td>\n",
       "      <td>133</td>\n",
       "    </tr>\n",
       "    <tr>\n",
       "      <th>6685882</th>\n",
       "      <td>cdklGt9GMHYgm0UFpikhUw</td>\n",
       "      <td>0.484615</td>\n",
       "      <td>0.552564</td>\n",
       "      <td>121</td>\n",
       "    </tr>\n",
       "    <tr>\n",
       "      <th>6685883</th>\n",
       "      <td>AwOuSxkiI8ER5SPLUoTmBg</td>\n",
       "      <td>-0.002020</td>\n",
       "      <td>0.446901</td>\n",
       "      <td>598</td>\n",
       "    </tr>\n",
       "    <tr>\n",
       "      <th>6685885</th>\n",
       "      <td>xmjUT3rp7-XEF1crgXXEeQ</td>\n",
       "      <td>0.236250</td>\n",
       "      <td>0.220000</td>\n",
       "      <td>162</td>\n",
       "    </tr>\n",
       "    <tr>\n",
       "      <th>6685891</th>\n",
       "      <td>bzQFrsMDtGIVOeXp5gbNeg</td>\n",
       "      <td>0.109180</td>\n",
       "      <td>0.477005</td>\n",
       "      <td>185</td>\n",
       "    </tr>\n",
       "    <tr>\n",
       "      <th>6685892</th>\n",
       "      <td>ioBbu9mWj6Ln6Ypbs8oRdg</td>\n",
       "      <td>0.212616</td>\n",
       "      <td>0.607523</td>\n",
       "      <td>186</td>\n",
       "    </tr>\n",
       "    <tr>\n",
       "      <th>6685895</th>\n",
       "      <td>0pCaq1hqAViS2N6ldlp_sQ</td>\n",
       "      <td>0.010156</td>\n",
       "      <td>0.512500</td>\n",
       "      <td>150</td>\n",
       "    </tr>\n",
       "    <tr>\n",
       "      <th>6685898</th>\n",
       "      <td>o8Nc2BJhKJXM6tRHJDRuPA</td>\n",
       "      <td>0.181157</td>\n",
       "      <td>0.554537</td>\n",
       "      <td>127</td>\n",
       "    </tr>\n",
       "    <tr>\n",
       "      <th>6685899</th>\n",
       "      <td>OKmOLFwtI-NjofTHAGzv1Q</td>\n",
       "      <td>0.098407</td>\n",
       "      <td>0.474930</td>\n",
       "      <td>149</td>\n",
       "    </tr>\n",
       "  </tbody>\n",
       "</table>\n",
       "<p>2319948 rows × 4 columns</p>\n",
       "</div>"
      ],
      "text/plain": [
       "                      review_id  polarity  subjectivity   WC\n",
       "1        GJXCdrto3ASJOqKeVWPi6Q  0.315810      0.536668  288\n",
       "2        2TzJjDVDEuAW6MR5Vuc1ug  0.429125      0.584000  113\n",
       "4        11a8sVPMUFtaC7_ABRkmtw  0.049277      0.432407  673\n",
       "5        fdiNeiN_hoCxCMy2wTRW9g  0.238157      0.619437  295\n",
       "6        G7XHMxG0bx9oBJNECG4IFg  0.148851      0.545361  243\n",
       "8        qrffudO73zsslZbe8B9D3Q  0.227130      0.568201  264\n",
       "10       kbtscdyz6lvrtGjD1quQTg  0.061458      0.325347  130\n",
       "12       Z7wgXp98wYB57QdRY3HQ3w  0.602879      0.806548  212\n",
       "14       JVcjMhlavKKn3UIt9p9OXA -0.378929      0.646548  190\n",
       "17       6BnQwlxRn7ZuWdzninM9sQ -0.038269      0.588608  373\n",
       "19       4bUyL7lzoWzDZaJETAKREg  0.074510      0.607843  147\n",
       "21       IPw8yWiyqnfBzzWmypUHgg  0.353509      0.388596  139\n",
       "26       W1wbNaUnbMy4b9QqY3_SAg -0.192340      0.599948  255\n",
       "28       1daGBpea0sleayFeeXuoYw -0.016005      0.662566  123\n",
       "29       DAC4zWY2ZMa1vxpN9RrDvA  0.039881      0.459094  433\n",
       "31       bjD0Dqn3k-fi00BXatrytg -0.040185      0.392747  334\n",
       "34       E6B-2U2sGG3xgmnNWZAEew  0.148413      0.496825  195\n",
       "35       wOv7JiO0EGcJ61P2JcDS1g  0.136710      0.610584  150\n",
       "38       vBRxlgkpDTXjWiYBp1V6GA  0.130303      0.456566  193\n",
       "39       eed44nI0eZ4BGKtKXsRJhQ  0.096970      0.490152  142\n",
       "40       UoFxqWXBluvS4Q32spb8Lg  0.305802      0.678028  383\n",
       "41       8swMTt9IXycp15r3WlCEmg  0.299561      0.560526  162\n",
       "44       f0B9-r14-bLudyu5S7aLhw  0.024818      0.584566  158\n",
       "48       u1jQX0KfnG3AHty4ifEpFA  0.170879      0.581341  153\n",
       "52       Saae_VVf_v0fyNmB6Dc4kw  0.025546      0.430903  317\n",
       "55       vAckaF8n0KKJeqHOnb1ayw  0.186174      0.557576  174\n",
       "56       VqZMgUf4wQMTeCWg2M_e8Q  0.231638      0.426912  146\n",
       "57       UIvFkXLBxWxM6aekvaCp8Q -0.026436      0.627039  390\n",
       "58       4pfD5yB-S2PduTInghEcNg  0.129167      0.417361  138\n",
       "59       IRwIFWgjJiMSBBucewhHDg  0.155083      0.475194  223\n",
       "...                         ...       ...           ...  ...\n",
       "6685798  ghYZM7lqzjej05I_T3vYyA  0.253119      0.578605  485\n",
       "6685800  Yb9IY8GrWpHQ4UfS6oRm0Q  0.226500      0.462111  166\n",
       "6685801  VJgt91qmTdzlwrpIE7Zujg -0.606771      0.558333  118\n",
       "6685802  BBjdCIibtHorWefcKOmelQ  0.314498      0.567177  199\n",
       "6685805  lJtGRz93kOfTjV6blKmpxg -0.024524      0.546825  163\n",
       "6685818  Re8a_eIiFLha42pl_O-r0A -0.046167      0.550000  174\n",
       "6685822  xx75LJdt97n5ztKm8-AKfQ  0.236275      0.544118  137\n",
       "6685824  UG4aLPKajJJ6gMXYPXKoPA  0.289476      0.513275  125\n",
       "6685830  EpudfsD8GO81GlcXP6JXPg  0.304802      0.683225  192\n",
       "6685831  yllqhlHLN2G9yXbhLzxRpw -0.193651      0.574603  184\n",
       "6685835  tgBWDGErLOkNzIeQXPDEJA  0.315873      0.405159  113\n",
       "6685836  A6VBr7M8TD9GTvzShmgaHg -0.182812      0.608333  235\n",
       "6685837  RtW8zYj9q0wyZjlg9BbZ8A  0.126894      0.455519  123\n",
       "6685838  EX_BRISmxWvzgLSkeQCN0A  0.313492      0.486508  162\n",
       "6685841  _7taDBtB4SESrUrgLAACWw  0.220000      0.466250  266\n",
       "6685842  V3eXEfo--DPg0fDqRH5bGg  0.412952      0.638295  155\n",
       "6685848  3-lHpM9sdw2CNCwMezvCIA  0.311012      0.492586  136\n",
       "6685853  JUzyYFcrCnaw-3dkWifnFw  0.240741      0.647222  116\n",
       "6685856  30vnT1Vu2vOP-jhtLNATng  0.024967      0.574956  154\n",
       "6685861  xmLBMfvrVyeW2nhHdRRwCA -0.140354      0.490556  233\n",
       "6685867  Io0vyvmbFh3H0lpa7Es54A  0.042000      0.605597  465\n",
       "6685873  vNUUOTSJh4R3dhDMrP-ASA  0.298167      0.556015  133\n",
       "6685882  cdklGt9GMHYgm0UFpikhUw  0.484615      0.552564  121\n",
       "6685883  AwOuSxkiI8ER5SPLUoTmBg -0.002020      0.446901  598\n",
       "6685885  xmjUT3rp7-XEF1crgXXEeQ  0.236250      0.220000  162\n",
       "6685891  bzQFrsMDtGIVOeXp5gbNeg  0.109180      0.477005  185\n",
       "6685892  ioBbu9mWj6Ln6Ypbs8oRdg  0.212616      0.607523  186\n",
       "6685895  0pCaq1hqAViS2N6ldlp_sQ  0.010156      0.512500  150\n",
       "6685898  o8Nc2BJhKJXM6tRHJDRuPA  0.181157      0.554537  127\n",
       "6685899  OKmOLFwtI-NjofTHAGzv1Q  0.098407      0.474930  149\n",
       "\n",
       "[2319948 rows x 4 columns]"
      ]
     },
     "execution_count": 14,
     "metadata": {},
     "output_type": "execute_result"
    }
   ],
   "source": [
    "mergedf.loc[mergedf['WC'] > 112]"
   ]
  },
  {
   "cell_type": "markdown",
   "metadata": {},
   "source": [
    "### Still 2 million reviews greater than 112 words"
   ]
  },
  {
   "cell_type": "markdown",
   "metadata": {},
   "source": [
    "#### Lets look at subjectivity and polarity based on Wordcount "
   ]
  },
  {
   "cell_type": "code",
   "execution_count": 23,
   "metadata": {},
   "outputs": [
    {
     "data": {
      "text/plain": [
       "(array([   1872.,    2319.,   20579.,  148450.,  648910., 1003470.,\n",
       "         429455.,   59330.,    4087.,    1476.]),\n",
       " array([0. , 0.1, 0.2, 0.3, 0.4, 0.5, 0.6, 0.7, 0.8, 0.9, 1. ]),\n",
       " <a list of 10 Patch objects>)"
      ]
     },
     "execution_count": 23,
     "metadata": {},
     "output_type": "execute_result"
    },
    {
     "data": {
      "image/png": "[encoded data removed]",
      "text/plain": [
       "<Figure size 432x288 with 1 Axes>"
      ]
     },
     "metadata": {
      "needs_background": "light"
     },
     "output_type": "display_data"
    }
   ],
   "source": [
    "plt.hist(mergedf.loc[mergedf['WC'] > 112, 'subjectivity'])"
   ]
  },
  {
   "cell_type": "markdown",
   "metadata": {},
   "source": [
    "### 0.5-0.6 subjectivity for most reviews meaning neither fact no opinion "
   ]
  },
  {
   "cell_type": "markdown",
   "metadata": {},
   "source": [
    "### Look at reviews with wordcount between a wordcount difference of 100 words"
   ]
  },
  {
   "cell_type": "code",
   "execution_count": 32,
   "metadata": {},
   "outputs": [
    {
     "data": {
      "image/png": "[encoded data removed]",
      "text/plain": [
       "<Figure size 432x288 with 1 Axes>"
      ]
     },
     "metadata": {
      "needs_background": "light"
     },
     "output_type": "display_data"
    }
   ],
   "source": [
    "hunrev = plt.hist(mergedf.loc[mergedf['WC'].between(112, 212), 'subjectivity'])"
   ]
  },
  {
   "cell_type": "code",
   "execution_count": 34,
   "metadata": {},
   "outputs": [
    {
     "data": {
      "text/html": [
       "<div>\n",
       "<style scoped>\n",
       "    .dataframe tbody tr th:only-of-type {\n",
       "        vertical-align: middle;\n",
       "    }\n",
       "\n",
       "    .dataframe tbody tr th {\n",
       "        vertical-align: top;\n",
       "    }\n",
       "\n",
       "    .dataframe thead th {\n",
       "        text-align: right;\n",
       "    }\n",
       "</style>\n",
       "<table border=\"1\" class=\"dataframe\">\n",
       "  <thead>\n",
       "    <tr style=\"text-align: right;\">\n",
       "      <th></th>\n",
       "      <th>polarity</th>\n",
       "      <th>subjectivity</th>\n",
       "      <th>WC</th>\n",
       "      <th>stars</th>\n",
       "    </tr>\n",
       "  </thead>\n",
       "  <tbody>\n",
       "    <tr>\n",
       "      <th>count</th>\n",
       "      <td>1.510016e+06</td>\n",
       "      <td>1.510016e+06</td>\n",
       "      <td>1.510016e+06</td>\n",
       "      <td>1.510016e+06</td>\n",
       "    </tr>\n",
       "    <tr>\n",
       "      <th>mean</th>\n",
       "      <td>1.784556e-01</td>\n",
       "      <td>5.365479e-01</td>\n",
       "      <td>1.524949e+02</td>\n",
       "      <td>3.466665e+00</td>\n",
       "    </tr>\n",
       "    <tr>\n",
       "      <th>std</th>\n",
       "      <td>1.615924e-01</td>\n",
       "      <td>9.869511e-02</td>\n",
       "      <td>2.824744e+01</td>\n",
       "      <td>1.479493e+00</td>\n",
       "    </tr>\n",
       "    <tr>\n",
       "      <th>min</th>\n",
       "      <td>-1.000000e+00</td>\n",
       "      <td>0.000000e+00</td>\n",
       "      <td>1.120000e+02</td>\n",
       "      <td>1.000000e+00</td>\n",
       "    </tr>\n",
       "    <tr>\n",
       "      <th>25%</th>\n",
       "      <td>7.817460e-02</td>\n",
       "      <td>4.754286e-01</td>\n",
       "      <td>1.280000e+02</td>\n",
       "      <td>2.000000e+00</td>\n",
       "    </tr>\n",
       "    <tr>\n",
       "      <th>50%</th>\n",
       "      <td>1.907053e-01</td>\n",
       "      <td>5.397222e-01</td>\n",
       "      <td>1.480000e+02</td>\n",
       "      <td>4.000000e+00</td>\n",
       "    </tr>\n",
       "    <tr>\n",
       "      <th>75%</th>\n",
       "      <td>2.889380e-01</td>\n",
       "      <td>6.014617e-01</td>\n",
       "      <td>1.750000e+02</td>\n",
       "      <td>5.000000e+00</td>\n",
       "    </tr>\n",
       "    <tr>\n",
       "      <th>max</th>\n",
       "      <td>1.000000e+00</td>\n",
       "      <td>1.000000e+00</td>\n",
       "      <td>2.120000e+02</td>\n",
       "      <td>5.000000e+00</td>\n",
       "    </tr>\n",
       "  </tbody>\n",
       "</table>\n",
       "</div>"
      ],
      "text/plain": [
       "           polarity  subjectivity            WC         stars\n",
       "count  1.510016e+06  1.510016e+06  1.510016e+06  1.510016e+06\n",
       "mean   1.784556e-01  5.365479e-01  1.524949e+02  3.466665e+00\n",
       "std    1.615924e-01  9.869511e-02  2.824744e+01  1.479493e+00\n",
       "min   -1.000000e+00  0.000000e+00  1.120000e+02  1.000000e+00\n",
       "25%    7.817460e-02  4.754286e-01  1.280000e+02  2.000000e+00\n",
       "50%    1.907053e-01  5.397222e-01  1.480000e+02  4.000000e+00\n",
       "75%    2.889380e-01  6.014617e-01  1.750000e+02  5.000000e+00\n",
       "max    1.000000e+00  1.000000e+00  2.120000e+02  5.000000e+00"
      ]
     },
     "execution_count": 34,
     "metadata": {},
     "output_type": "execute_result"
    }
   ],
   "source": [
    "mergedf.loc[mergedf['WC'].between(112, 212)].describe()"
   ]
  },
  {
   "cell_type": "code",
   "execution_count": 35,
   "metadata": {},
   "outputs": [
    {
     "data": {
      "text/plain": [
       "(array([2.06000e+02, 2.30000e+02, 3.35200e+03, 3.00500e+04, 1.49334e+05,\n",
       "        2.32952e+05, 7.99850e+04, 5.26200e+03, 2.07000e+02, 2.66000e+02]),\n",
       " array([0. , 0.1, 0.2, 0.3, 0.4, 0.5, 0.6, 0.7, 0.8, 0.9, 1. ]),\n",
       " <a list of 10 Patch objects>)"
      ]
     },
     "execution_count": 35,
     "metadata": {},
     "output_type": "execute_result"
    },
    {
     "data": {
      "image/png": "[encoded data removed]",
      "text/plain": [
       "<Figure size 432x288 with 1 Axes>"
      ]
     },
     "metadata": {
      "needs_background": "light"
     },
     "output_type": "display_data"
    }
   ],
   "source": [
    "plt.hist(mergedf.loc[mergedf['WC'].between(212, 312), 'subjectivity'])"
   ]
  },
  {
   "cell_type": "code",
   "execution_count": 36,
   "metadata": {},
   "outputs": [
    {
     "data": {
      "text/plain": [
       "(array([3.5000e+01, 4.2000e+01, 8.9600e+02, 1.0672e+04, 6.2395e+04,\n",
       "        9.2336e+04, 2.2101e+04, 6.8300e+02, 3.5000e+01, 4.5000e+01]),\n",
       " array([0. , 0.1, 0.2, 0.3, 0.4, 0.5, 0.6, 0.7, 0.8, 0.9, 1. ]),\n",
       " <a list of 10 Patch objects>)"
      ]
     },
     "execution_count": 36,
     "metadata": {},
     "output_type": "execute_result"
    },
    {
     "data": {
      "image/png": "[encoded data removed]",
      "text/plain": [
       "<Figure size 432x288 with 1 Axes>"
      ]
     },
     "metadata": {
      "needs_background": "light"
     },
     "output_type": "display_data"
    }
   ],
   "source": [
    "plt.hist(mergedf.loc[mergedf['WC'].between(312, 412), 'subjectivity'])"
   ]
  },
  {
   "cell_type": "code",
   "execution_count": 24,
   "metadata": {},
   "outputs": [
    {
     "data": {
      "text/plain": [
       "(array([1.100000e+02, 1.800000e+02, 1.838000e+03, 2.645600e+04,\n",
       "        2.747530e+05, 1.025754e+06, 8.764390e+05, 1.110190e+05,\n",
       "        3.017000e+03, 3.820000e+02]),\n",
       " array([-1. , -0.8, -0.6, -0.4, -0.2,  0. ,  0.2,  0.4,  0.6,  0.8,  1. ]),\n",
       " <a list of 10 Patch objects>)"
      ]
     },
     "execution_count": 24,
     "metadata": {},
     "output_type": "execute_result"
    },
    {
     "data": {
      "image/png": "[encoded data removed]",
      "text/plain": [
       "<Figure size 432x288 with 1 Axes>"
      ]
     },
     "metadata": {
      "needs_background": "light"
     },
     "output_type": "display_data"
    }
   ],
   "source": [
    "plt.hist(mergedf.loc[mergedf['WC'] > 112, 'polarity'])"
   ]
  },
  {
   "cell_type": "markdown",
   "metadata": {},
   "source": [
    "### 0.2 - 0.25 polarity for most reviews , leaning towards more positive sentiment than negative"
   ]
  },
  {
   "cell_type": "markdown",
   "metadata": {},
   "source": [
    "## Can word count also affect star rating "
   ]
  },
  {
   "cell_type": "code",
   "execution_count": 29,
   "metadata": {},
   "outputs": [
    {
     "data": {
      "text/plain": [
       "(array([459746.,      0., 259885.,      0.,      0., 332673.,      0.,\n",
       "        553416.,      0., 714228.]),\n",
       " array([1. , 1.4, 1.8, 2.2, 2.6, 3. , 3.4, 3.8, 4.2, 4.6, 5. ]),\n",
       " <a list of 10 Patch objects>)"
      ]
     },
     "execution_count": 29,
     "metadata": {},
     "output_type": "execute_result"
    },
    {
     "data": {
      "image/png": "[encoded data removed]",
      "text/plain": [
       "<Figure size 432x288 with 1 Axes>"
      ]
     },
     "metadata": {
      "needs_background": "light"
     },
     "output_type": "display_data"
    }
   ],
   "source": [
    "plt.hist(mergedf.loc[mergedf['WC'] > 112, 'stars'])"
   ]
  },
  {
   "cell_type": "markdown",
   "metadata": {},
   "source": [
    "###  Higher chance of getting 5 stars with a review greater than 100 words"
   ]
  },
  {
   "cell_type": "markdown",
   "metadata": {},
   "source": [
    "### But there are still about 450,000 reviews with a 1 star"
   ]
  },
  {
   "cell_type": "code",
   "execution_count": 26,
   "metadata": {},
   "outputs": [
    {
     "data": {
      "text/plain": [
       "(array([3., 0., 3., 0., 0., 3., 0., 7., 0., 7.]),\n",
       " array([1. , 1.4, 1.8, 2.2, 2.6, 3. , 3.4, 3.8, 4.2, 4.6, 5. ]),\n",
       " <a list of 10 Patch objects>)"
      ]
     },
     "execution_count": 26,
     "metadata": {},
     "output_type": "execute_result"
    },
    {
     "data": {
      "image/png": "[encoded data removed]",
      "text/plain": [
       "<Figure size 432x288 with 1 Axes>"
      ]
     },
     "metadata": {
      "needs_background": "light"
     },
     "output_type": "display_data"
    }
   ],
   "source": [
    "plt.hist(mergedf.loc[mergedf['WC'] > 1112, 'stars'])"
   ]
  },
  {
   "cell_type": "markdown",
   "metadata": {},
   "source": [
    "### Fewer reviews with 1112 but more 5 stars than 1 star"
   ]
  },
  {
   "cell_type": "code",
   "execution_count": 39,
   "metadata": {},
   "outputs": [
    {
     "data": {
      "text/plain": [
       "(array([265739.,      0., 155144.,      0.,      0., 210202.,      0.,\n",
       "        366569.,      0., 512362.]),\n",
       " array([1. , 1.4, 1.8, 2.2, 2.6, 3. , 3.4, 3.8, 4.2, 4.6, 5. ]),\n",
       " <a list of 10 Patch objects>)"
      ]
     },
     "execution_count": 39,
     "metadata": {},
     "output_type": "execute_result"
    },
    {
     "data": {
      "image/png": "[encoded data removed]",
      "text/plain": [
       "<Figure size 432x288 with 1 Axes>"
      ]
     },
     "metadata": {
      "needs_background": "light"
     },
     "output_type": "display_data"
    }
   ],
   "source": [
    "plt.hist(mergedf.loc[mergedf['WC'].between (112,212), 'stars'])"
   ]
  },
  {
   "cell_type": "markdown",
   "metadata": {},
   "source": [
    "### 1 million Reviews between 112 words to 212 words look similar to the 2 million reviews greater than 112 words"
   ]
  },
  {
   "cell_type": "code",
   "execution_count": null,
   "metadata": {},
   "outputs": [],
   "source": []
  }
 ],
 "metadata": {
  "kernelspec": {
   "display_name": "U4-S1-NLP (Python3.7)",
   "language": "python",
   "name": "u4-s1-nlp"
  },
  "language_info": {
   "codemirror_mode": {
    "name": "ipython",
    "version": 3
   },
   "file_extension": ".py",
   "mimetype": "text/x-python",
   "name": "python",
   "nbconvert_exporter": "python",
   "pygments_lexer": "ipython3",
   "version": "3.7.0"
  }
 },
 "nbformat": 4,
 "nbformat_minor": 2
}
